{
  "nbformat": 4,
  "nbformat_minor": 0,
  "metadata": {
    "colab": {
      "name": "Iris autoencoder.ipynb",
      "provenance": []
    },
    "kernelspec": {
      "name": "python3",
      "display_name": "Python 3"
    }
  },
  "cells": [
    {
      "cell_type": "code",
      "metadata": {
        "id": "3dTh1eUQ64VP",
        "colab_type": "code",
        "colab": {
          "base_uri": "https://localhost:8080/",
          "height": 1000
        },
        "outputId": "06429e2d-bef1-470f-c3c6-9adc7a47574e"
      },
      "source": [
        "! apt-get install default-jre\n",
        "!java -version\n",
        "! pip install h2o\n",
        "import h2o\n",
        "h2o.init()"
      ],
      "execution_count": 1,
      "outputs": [
        {
          "output_type": "stream",
          "text": [
            "Reading package lists... Done\n",
            "Building dependency tree       \n",
            "Reading state information... Done\n",
            "default-jre is already the newest version (2:1.11-68ubuntu1~18.04.1).\n",
            "default-jre set to manually installed.\n",
            "The following package was automatically installed and is no longer required:\n",
            "  libnvidia-common-430\n",
            "Use 'apt autoremove' to remove it.\n",
            "0 upgraded, 0 newly installed, 0 to remove and 7 not upgraded.\n",
            "openjdk version \"11.0.5\" 2019-10-15\n",
            "OpenJDK Runtime Environment (build 11.0.5+10-post-Ubuntu-0ubuntu1.118.04)\n",
            "OpenJDK 64-Bit Server VM (build 11.0.5+10-post-Ubuntu-0ubuntu1.118.04, mixed mode, sharing)\n",
            "Collecting h2o\n",
            "\u001b[?25l  Downloading https://files.pythonhosted.org/packages/6b/d1/aaa74df4716b2454d6034261807ef3855d014862c801f0e9b803b568006d/h2o-3.28.0.1.tar.gz (123.4MB)\n",
            "\u001b[K     |████████████████████████████████| 123.4MB 85kB/s \n",
            "\u001b[?25hRequirement already satisfied: requests in /usr/local/lib/python3.6/dist-packages (from h2o) (2.21.0)\n",
            "Requirement already satisfied: tabulate in /usr/local/lib/python3.6/dist-packages (from h2o) (0.8.6)\n",
            "Requirement already satisfied: future in /usr/local/lib/python3.6/dist-packages (from h2o) (0.16.0)\n",
            "Collecting colorama>=0.3.8\n",
            "  Downloading https://files.pythonhosted.org/packages/c9/dc/45cdef1b4d119eb96316b3117e6d5708a08029992b2fee2c143c7a0a5cc5/colorama-0.4.3-py2.py3-none-any.whl\n",
            "Requirement already satisfied: certifi>=2017.4.17 in /usr/local/lib/python3.6/dist-packages (from requests->h2o) (2019.11.28)\n",
            "Requirement already satisfied: chardet<3.1.0,>=3.0.2 in /usr/local/lib/python3.6/dist-packages (from requests->h2o) (3.0.4)\n",
            "Requirement already satisfied: urllib3<1.25,>=1.21.1 in /usr/local/lib/python3.6/dist-packages (from requests->h2o) (1.24.3)\n",
            "Requirement already satisfied: idna<2.9,>=2.5 in /usr/local/lib/python3.6/dist-packages (from requests->h2o) (2.8)\n",
            "Building wheels for collected packages: h2o\n",
            "  Building wheel for h2o (setup.py) ... \u001b[?25l\u001b[?25hdone\n",
            "  Created wheel for h2o: filename=h2o-3.28.0.1-py2.py3-none-any.whl size=123410554 sha256=b9771e9d7fb76a34cbee16b20973e5d5c8aabfe20de773711a8ff595e7535fd3\n",
            "  Stored in directory: /root/.cache/pip/wheels/ff/82/f4/3fe9c895b93c53b25ae44dc44aa54dad571c711f48bc485fe9\n",
            "Successfully built h2o\n",
            "Installing collected packages: colorama, h2o\n",
            "Successfully installed colorama-0.4.3 h2o-3.28.0.1\n",
            "Checking whether there is an H2O instance running at http://localhost:54321 ..... not found.\n",
            "Attempting to start a local H2O server...\n",
            "  Java Version: openjdk version \"11.0.5\" 2019-10-15; OpenJDK Runtime Environment (build 11.0.5+10-post-Ubuntu-0ubuntu1.118.04); OpenJDK 64-Bit Server VM (build 11.0.5+10-post-Ubuntu-0ubuntu1.118.04, mixed mode, sharing)\n",
            "  Starting server from /usr/local/lib/python3.6/dist-packages/h2o/backend/bin/h2o.jar\n",
            "  Ice root: /tmp/tmp4mr34d2r\n",
            "  JVM stdout: /tmp/tmp4mr34d2r/h2o_unknownUser_started_from_python.out\n",
            "  JVM stderr: /tmp/tmp4mr34d2r/h2o_unknownUser_started_from_python.err\n",
            "  Server is running at http://127.0.0.1:54321\n",
            "Connecting to H2O server at http://127.0.0.1:54321 ... successful.\n"
          ],
          "name": "stdout"
        },
        {
          "output_type": "display_data",
          "data": {
            "text/html": [
              "<div style=\"overflow:auto\"><table style=\"width:50%\"><tr><td>H2O cluster uptime:</td>\n",
              "<td>02 secs</td></tr>\n",
              "<tr><td>H2O cluster timezone:</td>\n",
              "<td>Etc/UTC</td></tr>\n",
              "<tr><td>H2O data parsing timezone:</td>\n",
              "<td>UTC</td></tr>\n",
              "<tr><td>H2O cluster version:</td>\n",
              "<td>3.28.0.1</td></tr>\n",
              "<tr><td>H2O cluster version age:</td>\n",
              "<td>3 days </td></tr>\n",
              "<tr><td>H2O cluster name:</td>\n",
              "<td>H2O_from_python_unknownUser_alpvtn</td></tr>\n",
              "<tr><td>H2O cluster total nodes:</td>\n",
              "<td>1</td></tr>\n",
              "<tr><td>H2O cluster free memory:</td>\n",
              "<td>3 Gb</td></tr>\n",
              "<tr><td>H2O cluster total cores:</td>\n",
              "<td>2</td></tr>\n",
              "<tr><td>H2O cluster allowed cores:</td>\n",
              "<td>2</td></tr>\n",
              "<tr><td>H2O cluster status:</td>\n",
              "<td>accepting new members, healthy</td></tr>\n",
              "<tr><td>H2O connection url:</td>\n",
              "<td>http://127.0.0.1:54321</td></tr>\n",
              "<tr><td>H2O connection proxy:</td>\n",
              "<td>{'http': None, 'https': None}</td></tr>\n",
              "<tr><td>H2O internal security:</td>\n",
              "<td>False</td></tr>\n",
              "<tr><td>H2O API Extensions:</td>\n",
              "<td>Amazon S3, XGBoost, Algos, AutoML, Core V3, TargetEncoder, Core V4</td></tr>\n",
              "<tr><td>Python version:</td>\n",
              "<td>3.6.9 final</td></tr></table></div>"
            ],
            "text/plain": [
              "--------------------------  ------------------------------------------------------------------\n",
              "H2O cluster uptime:         02 secs\n",
              "H2O cluster timezone:       Etc/UTC\n",
              "H2O data parsing timezone:  UTC\n",
              "H2O cluster version:        3.28.0.1\n",
              "H2O cluster version age:    3 days\n",
              "H2O cluster name:           H2O_from_python_unknownUser_alpvtn\n",
              "H2O cluster total nodes:    1\n",
              "H2O cluster free memory:    3 Gb\n",
              "H2O cluster total cores:    2\n",
              "H2O cluster allowed cores:  2\n",
              "H2O cluster status:         accepting new members, healthy\n",
              "H2O connection url:         http://127.0.0.1:54321\n",
              "H2O connection proxy:       {'http': None, 'https': None}\n",
              "H2O internal security:      False\n",
              "H2O API Extensions:         Amazon S3, XGBoost, Algos, AutoML, Core V3, TargetEncoder, Core V4\n",
              "Python version:             3.6.9 final\n",
              "--------------------------  ------------------------------------------------------------------"
            ]
          },
          "metadata": {
            "tags": []
          }
        }
      ]
    },
    {
      "cell_type": "code",
      "metadata": {
        "id": "GprBvJq567zJ",
        "colab_type": "code",
        "colab": {
          "base_uri": "https://localhost:8080/",
          "height": 52
        },
        "outputId": "91f28c56-bfee-4cfd-8824-aad9b19e9e28"
      },
      "source": [
        "url = \"http://h2o-public-test-data.s3.amazonaws.com/smalldata/iris/iris_wheader.csv\"\n",
        "iris=h2o.import_file(url)\n",
        "train,test= iris.split_frame([0.8])\n",
        "train.nrows"
      ],
      "execution_count": 2,
      "outputs": [
        {
          "output_type": "stream",
          "text": [
            "Parse progress: |█████████████████████████████████████████████████████████| 100%\n"
          ],
          "name": "stdout"
        },
        {
          "output_type": "execute_result",
          "data": {
            "text/plain": [
              "123"
            ]
          },
          "metadata": {
            "tags": []
          },
          "execution_count": 2
        }
      ]
    },
    {
      "cell_type": "code",
      "metadata": {
        "id": "8_pwIWRO7Hjz",
        "colab_type": "code",
        "colab": {}
      },
      "source": [
        "x = ['sepal_len','sepal_wid','petal_len','petal_wid']"
      ],
      "execution_count": 0,
      "outputs": []
    },
    {
      "cell_type": "code",
      "metadata": {
        "id": "6QH2N5uf7Qo9",
        "colab_type": "code",
        "colab": {}
      },
      "source": [
        "from h2o.estimators.deeplearning import H2OAutoEncoderEstimator as ae"
      ],
      "execution_count": 0,
      "outputs": []
    },
    {
      "cell_type": "code",
      "metadata": {
        "id": "JGaImDto7dpQ",
        "colab_type": "code",
        "colab": {
          "base_uri": "https://localhost:8080/",
          "height": 69
        },
        "outputId": "22ee624e-eaed-45b5-fc39-7018b5c07688"
      },
      "source": [
        "m_AE_4 = ae(hidden=[4], activation='Tanh', epochs=300, model_id='m_AE_4',\n",
        "            train_samples_per_iteration=train.nrow, score_interval=0, score_duty_cycle=1.0)\n",
        "\n",
        "%time m_AE_4.train(x, None, train) #label is none"
      ],
      "execution_count": 8,
      "outputs": [
        {
          "output_type": "stream",
          "text": [
            "deeplearning Model Build progress: |██████████████████████████████████████| 100%\n",
            "CPU times: user 168 ms, sys: 20.4 ms, total: 189 ms\n",
            "Wall time: 5.05 s\n"
          ],
          "name": "stdout"
        }
      ]
    },
    {
      "cell_type": "code",
      "metadata": {
        "id": "Q0BTJ-sA8Wf_",
        "colab_type": "code",
        "colab": {
          "base_uri": "https://localhost:8080/",
          "height": 198
        },
        "outputId": "b4dd3fc7-3b81-4275-c842-d5dbb8618059"
      },
      "source": [
        "sh = m_AE_4.score_history()\n",
        "sh.head()"
      ],
      "execution_count": 9,
      "outputs": [
        {
          "output_type": "execute_result",
          "data": {
            "text/html": [
              "<div>\n",
              "<style scoped>\n",
              "    .dataframe tbody tr th:only-of-type {\n",
              "        vertical-align: middle;\n",
              "    }\n",
              "\n",
              "    .dataframe tbody tr th {\n",
              "        vertical-align: top;\n",
              "    }\n",
              "\n",
              "    .dataframe thead th {\n",
              "        text-align: right;\n",
              "    }\n",
              "</style>\n",
              "<table border=\"1\" class=\"dataframe\">\n",
              "  <thead>\n",
              "    <tr style=\"text-align: right;\">\n",
              "      <th></th>\n",
              "      <th></th>\n",
              "      <th>timestamp</th>\n",
              "      <th>duration</th>\n",
              "      <th>training_speed</th>\n",
              "      <th>epochs</th>\n",
              "      <th>iterations</th>\n",
              "      <th>samples</th>\n",
              "      <th>training_rmse</th>\n",
              "      <th>training_mse</th>\n",
              "    </tr>\n",
              "  </thead>\n",
              "  <tbody>\n",
              "    <tr>\n",
              "      <th>0</th>\n",
              "      <td></td>\n",
              "      <td>2019-12-20 06:15:20</td>\n",
              "      <td>0.217 sec</td>\n",
              "      <td>0.00000 obs/sec</td>\n",
              "      <td>0.0</td>\n",
              "      <td>0</td>\n",
              "      <td>0.0</td>\n",
              "      <td>0.260462</td>\n",
              "      <td>0.067840</td>\n",
              "    </tr>\n",
              "    <tr>\n",
              "      <th>1</th>\n",
              "      <td></td>\n",
              "      <td>2019-12-20 06:15:20</td>\n",
              "      <td>0.298 sec</td>\n",
              "      <td>1618 obs/sec</td>\n",
              "      <td>1.0</td>\n",
              "      <td>1</td>\n",
              "      <td>123.0</td>\n",
              "      <td>0.166128</td>\n",
              "      <td>0.027599</td>\n",
              "    </tr>\n",
              "    <tr>\n",
              "      <th>2</th>\n",
              "      <td></td>\n",
              "      <td>2019-12-20 06:15:20</td>\n",
              "      <td>0.323 sec</td>\n",
              "      <td>2617 obs/sec</td>\n",
              "      <td>2.0</td>\n",
              "      <td>2</td>\n",
              "      <td>246.0</td>\n",
              "      <td>0.138724</td>\n",
              "      <td>0.019244</td>\n",
              "    </tr>\n",
              "    <tr>\n",
              "      <th>3</th>\n",
              "      <td></td>\n",
              "      <td>2019-12-20 06:15:20</td>\n",
              "      <td>0.352 sec</td>\n",
              "      <td>3294 obs/sec</td>\n",
              "      <td>3.0</td>\n",
              "      <td>3</td>\n",
              "      <td>369.0</td>\n",
              "      <td>0.117704</td>\n",
              "      <td>0.013854</td>\n",
              "    </tr>\n",
              "    <tr>\n",
              "      <th>4</th>\n",
              "      <td></td>\n",
              "      <td>2019-12-20 06:15:20</td>\n",
              "      <td>0.376 sec</td>\n",
              "      <td>3755 obs/sec</td>\n",
              "      <td>4.0</td>\n",
              "      <td>4</td>\n",
              "      <td>492.0</td>\n",
              "      <td>0.109060</td>\n",
              "      <td>0.011894</td>\n",
              "    </tr>\n",
              "  </tbody>\n",
              "</table>\n",
              "</div>"
            ],
            "text/plain": [
              "               timestamp    duration  ... samples  training_rmse  training_mse\n",
              "0    2019-12-20 06:15:20   0.217 sec  ...     0.0       0.260462      0.067840\n",
              "1    2019-12-20 06:15:20   0.298 sec  ...   123.0       0.166128      0.027599\n",
              "2    2019-12-20 06:15:20   0.323 sec  ...   246.0       0.138724      0.019244\n",
              "3    2019-12-20 06:15:20   0.352 sec  ...   369.0       0.117704      0.013854\n",
              "4    2019-12-20 06:15:20   0.376 sec  ...   492.0       0.109060      0.011894\n",
              "\n",
              "[5 rows x 9 columns]"
            ]
          },
          "metadata": {
            "tags": []
          },
          "execution_count": 9
        }
      ]
    },
    {
      "cell_type": "code",
      "metadata": {
        "id": "Yr9I26tu8y2_",
        "colab_type": "code",
        "colab": {
          "base_uri": "https://localhost:8080/",
          "height": 283
        },
        "outputId": "af8be09a-8373-4d32-e1cc-c8a238545f0f"
      },
      "source": [
        "sh['training_mse'].plot()"
      ],
      "execution_count": 11,
      "outputs": [
        {
          "output_type": "execute_result",
          "data": {
            "text/plain": [
              "<matplotlib.axes._subplots.AxesSubplot at 0x7fbeb166b7f0>"
            ]
          },
          "metadata": {
            "tags": []
          },
          "execution_count": 11
        },
        {
          "output_type": "display_data",
          "data": {
            "image/png": "[encoded data removed]",
            "text/plain": [
              "<Figure size 432x288 with 1 Axes>"
            ]
          },
          "metadata": {
            "tags": []
          }
        }
      ]
    },
    {
      "cell_type": "code",
      "metadata": {
        "id": "DSbcnxFz87Db",
        "colab_type": "code",
        "colab": {
          "base_uri": "https://localhost:8080/",
          "height": 286
        },
        "outputId": "11150d6a-64f0-4f9f-889d-614cc7bd402e"
      },
      "source": [
        "sh['training_mse'].tail(50).plot()"
      ],
      "execution_count": 12,
      "outputs": [
        {
          "output_type": "execute_result",
          "data": {
            "text/plain": [
              "<matplotlib.axes._subplots.AxesSubplot at 0x7fbeb111af98>"
            ]
          },
          "metadata": {
            "tags": []
          },
          "execution_count": 12
        },
        {
          "output_type": "display_data",
          "data": {
            "image/png": "[encoded data removed]",
            "text/plain": [
              "<Figure size 432x288 with 1 Axes>"
            ]
          },
          "metadata": {
            "tags": []
          }
        }
      ]
    },
    {
      "cell_type": "code",
      "metadata": {
        "id": "hioewA1r9Eja",
        "colab_type": "code",
        "colab": {
          "base_uri": "https://localhost:8080/",
          "height": 69
        },
        "outputId": "8f7ecf87-06b0-4b5b-9619-7a34b6b8f7b0"
      },
      "source": [
        "nm_AE_4 = ae(hidden=[4], activation='Tanh', epochs=300, model_id='m_AE_4',\n",
        "            train_samples_per_iteration=train.nrow, score_interval=0, score_duty_cycle=1.0,\n",
        "            stopping_rounds=15)\n",
        "\n",
        "%time nm_AE_4.train(x, None, train)"
      ],
      "execution_count": 14,
      "outputs": [
        {
          "output_type": "stream",
          "text": [
            "deeplearning Model Build progress: |██████████████████████████████████████| 100%\n",
            "CPU times: user 185 ms, sys: 22.6 ms, total: 207 ms\n",
            "Wall time: 4.1 s\n"
          ],
          "name": "stdout"
        }
      ]
    },
    {
      "cell_type": "code",
      "metadata": {
        "id": "GkQDLUXE9akV",
        "colab_type": "code",
        "colab": {
          "base_uri": "https://localhost:8080/",
          "height": 198
        },
        "outputId": "4adab132-7b3c-45ec-b8c4-90e7728b59f0"
      },
      "source": [
        "sh = nm_AE_4.score_history()\n",
        "sh.head()"
      ],
      "execution_count": 15,
      "outputs": [
        {
          "output_type": "execute_result",
          "data": {
            "text/html": [
              "<div>\n",
              "<style scoped>\n",
              "    .dataframe tbody tr th:only-of-type {\n",
              "        vertical-align: middle;\n",
              "    }\n",
              "\n",
              "    .dataframe tbody tr th {\n",
              "        vertical-align: top;\n",
              "    }\n",
              "\n",
              "    .dataframe thead th {\n",
              "        text-align: right;\n",
              "    }\n",
              "</style>\n",
              "<table border=\"1\" class=\"dataframe\">\n",
              "  <thead>\n",
              "    <tr style=\"text-align: right;\">\n",
              "      <th></th>\n",
              "      <th></th>\n",
              "      <th>timestamp</th>\n",
              "      <th>duration</th>\n",
              "      <th>training_speed</th>\n",
              "      <th>epochs</th>\n",
              "      <th>iterations</th>\n",
              "      <th>samples</th>\n",
              "      <th>training_rmse</th>\n",
              "      <th>training_mse</th>\n",
              "    </tr>\n",
              "  </thead>\n",
              "  <tbody>\n",
              "    <tr>\n",
              "      <th>0</th>\n",
              "      <td></td>\n",
              "      <td>2019-12-20 06:19:12</td>\n",
              "      <td>0.051 sec</td>\n",
              "      <td>0.00000 obs/sec</td>\n",
              "      <td>0.0</td>\n",
              "      <td>0</td>\n",
              "      <td>0.0</td>\n",
              "      <td>0.313932</td>\n",
              "      <td>0.098553</td>\n",
              "    </tr>\n",
              "    <tr>\n",
              "      <th>1</th>\n",
              "      <td></td>\n",
              "      <td>2019-12-20 06:19:12</td>\n",
              "      <td>0.065 sec</td>\n",
              "      <td>9461 obs/sec</td>\n",
              "      <td>1.0</td>\n",
              "      <td>1</td>\n",
              "      <td>123.0</td>\n",
              "      <td>0.258591</td>\n",
              "      <td>0.066870</td>\n",
              "    </tr>\n",
              "    <tr>\n",
              "      <th>2</th>\n",
              "      <td></td>\n",
              "      <td>2019-12-20 06:19:12</td>\n",
              "      <td>0.075 sec</td>\n",
              "      <td>11181 obs/sec</td>\n",
              "      <td>2.0</td>\n",
              "      <td>2</td>\n",
              "      <td>246.0</td>\n",
              "      <td>0.230977</td>\n",
              "      <td>0.053350</td>\n",
              "    </tr>\n",
              "    <tr>\n",
              "      <th>3</th>\n",
              "      <td></td>\n",
              "      <td>2019-12-20 06:19:12</td>\n",
              "      <td>0.084 sec</td>\n",
              "      <td>12300 obs/sec</td>\n",
              "      <td>3.0</td>\n",
              "      <td>3</td>\n",
              "      <td>369.0</td>\n",
              "      <td>0.200761</td>\n",
              "      <td>0.040305</td>\n",
              "    </tr>\n",
              "    <tr>\n",
              "      <th>4</th>\n",
              "      <td></td>\n",
              "      <td>2019-12-20 06:19:12</td>\n",
              "      <td>0.089 sec</td>\n",
              "      <td>14470 obs/sec</td>\n",
              "      <td>4.0</td>\n",
              "      <td>4</td>\n",
              "      <td>492.0</td>\n",
              "      <td>0.174788</td>\n",
              "      <td>0.030551</td>\n",
              "    </tr>\n",
              "  </tbody>\n",
              "</table>\n",
              "</div>"
            ],
            "text/plain": [
              "               timestamp    duration  ... samples  training_rmse  training_mse\n",
              "0    2019-12-20 06:19:12   0.051 sec  ...     0.0       0.313932      0.098553\n",
              "1    2019-12-20 06:19:12   0.065 sec  ...   123.0       0.258591      0.066870\n",
              "2    2019-12-20 06:19:12   0.075 sec  ...   246.0       0.230977      0.053350\n",
              "3    2019-12-20 06:19:12   0.084 sec  ...   369.0       0.200761      0.040305\n",
              "4    2019-12-20 06:19:12   0.089 sec  ...   492.0       0.174788      0.030551\n",
              "\n",
              "[5 rows x 9 columns]"
            ]
          },
          "metadata": {
            "tags": []
          },
          "execution_count": 15
        }
      ]
    },
    {
      "cell_type": "code",
      "metadata": {
        "id": "8lkHyd0X9lYh",
        "colab_type": "code",
        "colab": {
          "base_uri": "https://localhost:8080/",
          "height": 282
        },
        "outputId": "d760929c-d7c4-4cde-a821-6e1c4b567f98"
      },
      "source": [
        "sh['training_mse'].tail(50).plot()"
      ],
      "execution_count": 16,
      "outputs": [
        {
          "output_type": "execute_result",
          "data": {
            "text/plain": [
              "<matplotlib.axes._subplots.AxesSubplot at 0x7fbeb10efd68>"
            ]
          },
          "metadata": {
            "tags": []
          },
          "execution_count": 16
        },
        {
          "output_type": "display_data",
          "data": {
            "image/png": "[encoded data removed]",
            "text/plain": [
              "<Figure size 432x288 with 1 Axes>"
            ]
          },
          "metadata": {
            "tags": []
          }
        }
      ]
    },
    {
      "cell_type": "markdown",
      "metadata": {
        "id": "DuSQzbXr92o4",
        "colab_type": "text"
      },
      "source": [
        "No. of hidden node is same as input to model should learn perfectly eventually"
      ]
    },
    {
      "cell_type": "code",
      "metadata": {
        "id": "vIuw3hge9vKd",
        "colab_type": "code",
        "colab": {
          "base_uri": "https://localhost:8080/",
          "height": 69
        },
        "outputId": "8dc2de20-01a0-45cb-fd57-dcc735bf4aa6"
      },
      "source": [
        "m_AE_3 = ae(hidden=[3], activation='Tanh', epochs=300, model_id='m_AE_3',\n",
        "            train_samples_per_iteration=train.nrow, score_interval=0, score_duty_cycle=1.0,\n",
        "            stopping_rounds=15)\n",
        "%time m_AE_3.train(x, None, train)"
      ],
      "execution_count": 21,
      "outputs": [
        {
          "output_type": "stream",
          "text": [
            "deeplearning Model Build progress: |██████████████████████████████████████| 100%\n",
            "CPU times: user 164 ms, sys: 23 ms, total: 187 ms\n",
            "Wall time: 2.81 s\n"
          ],
          "name": "stdout"
        }
      ]
    },
    {
      "cell_type": "code",
      "metadata": {
        "id": "eqLu_KHx-PSJ",
        "colab_type": "code",
        "colab": {
          "base_uri": "https://localhost:8080/",
          "height": 282
        },
        "outputId": "d5b7b633-0d61-4aac-fbe6-684dce70d865"
      },
      "source": [
        "sh = m_AE_3.score_history()\n",
        "sh['training_mse'].tail(50).plot()"
      ],
      "execution_count": 23,
      "outputs": [
        {
          "output_type": "execute_result",
          "data": {
            "text/plain": [
              "<matplotlib.axes._subplots.AxesSubplot at 0x7fbeb0faf198>"
            ]
          },
          "metadata": {
            "tags": []
          },
          "execution_count": 23
        },
        {
          "output_type": "display_data",
          "data": {
            "image/png": "[encoded data removed]",
            "text/plain": [
              "<Figure size 432x288 with 1 Axes>"
            ]
          },
          "metadata": {
            "tags": []
          }
        }
      ]
    },
    {
      "cell_type": "markdown",
      "metadata": {
        "id": "e_-bocSu-e6M",
        "colab_type": "text"
      },
      "source": [
        "Try with only 2 hidden neurons"
      ]
    },
    {
      "cell_type": "code",
      "metadata": {
        "id": "XGwwnTLW-ekt",
        "colab_type": "code",
        "colab": {
          "base_uri": "https://localhost:8080/",
          "height": 69
        },
        "outputId": "ac87bb78-d19b-411f-f3ed-a1d2aeea5913"
      },
      "source": [
        "m_AE_2 = ae(hidden=[2], activation='Tanh', epochs=300, model_id='m_AE_2',\n",
        "            train_samples_per_iteration=train.nrow, score_interval=0, score_duty_cycle=1.0,\n",
        "            stopping_rounds=15)\n",
        "%time m_AE_2.train(x, None, train)"
      ],
      "execution_count": 24,
      "outputs": [
        {
          "output_type": "stream",
          "text": [
            "deeplearning Model Build progress: |██████████████████████████████████████| 100%\n",
            "CPU times: user 232 ms, sys: 24 ms, total: 256 ms\n",
            "Wall time: 2.17 s\n"
          ],
          "name": "stdout"
        }
      ]
    },
    {
      "cell_type": "code",
      "metadata": {
        "id": "AUuX0-5J-ZrU",
        "colab_type": "code",
        "colab": {
          "base_uri": "https://localhost:8080/",
          "height": 285
        },
        "outputId": "8305e21a-94dc-402c-b206-198aecb77b2d"
      },
      "source": [
        "sh = m_AE_2.score_history()\n",
        "sh['training_mse'].tail(50).plot()"
      ],
      "execution_count": 25,
      "outputs": [
        {
          "output_type": "execute_result",
          "data": {
            "text/plain": [
              "<matplotlib.axes._subplots.AxesSubplot at 0x7fbeb0e64550>"
            ]
          },
          "metadata": {
            "tags": []
          },
          "execution_count": 25
        },
        {
          "output_type": "display_data",
          "data": {
            "image/png": "[encoded data removed]",
            "text/plain": [
              "<Figure size 432x288 with 1 Axes>"
            ]
          },
          "metadata": {
            "tags": []
          }
        }
      ]
    },
    {
      "cell_type": "markdown",
      "metadata": {
        "id": "UBuwtqpM-yjt",
        "colab_type": "text"
      },
      "source": [
        "Increase in mse let's try only one hidden neuron"
      ]
    },
    {
      "cell_type": "code",
      "metadata": {
        "id": "K_MZnKLp-rUy",
        "colab_type": "code",
        "colab": {
          "base_uri": "https://localhost:8080/",
          "height": 69
        },
        "outputId": "5aa64ce6-1844-4704-b4a8-21bd366cd3f5"
      },
      "source": [
        "m_AE_1 = ae(hidden=[1], activation='Tanh', epochs=300, model_id='m_AE_1',\n",
        "            train_samples_per_iteration=train.nrow, score_interval=0, score_duty_cycle=1.0,\n",
        "            stopping_rounds=15)\n",
        "%time m_AE_1.train(x, None, train)"
      ],
      "execution_count": 26,
      "outputs": [
        {
          "output_type": "stream",
          "text": [
            "deeplearning Model Build progress: |██████████████████████████████████████| 100%\n",
            "CPU times: user 68.6 ms, sys: 12.8 ms, total: 81.4 ms\n",
            "Wall time: 1.14 s\n"
          ],
          "name": "stdout"
        }
      ]
    },
    {
      "cell_type": "code",
      "metadata": {
        "id": "GNLkgBue_cso",
        "colab_type": "code",
        "colab": {
          "base_uri": "https://localhost:8080/",
          "height": 282
        },
        "outputId": "0a30fd3b-a670-4680-c65a-2b4a78ff3fd9"
      },
      "source": [
        "sh = m_AE_1.score_history()\n",
        "sh['training_mse'].tail(50).plot()"
      ],
      "execution_count": 27,
      "outputs": [
        {
          "output_type": "execute_result",
          "data": {
            "text/plain": [
              "<matplotlib.axes._subplots.AxesSubplot at 0x7fbeb0e33c50>"
            ]
          },
          "metadata": {
            "tags": []
          },
          "execution_count": 27
        },
        {
          "output_type": "display_data",
          "data": {
            "image/png": "[encoded data removed]",
            "text/plain": [
              "<Figure size 432x288 with 1 Axes>"
            ]
          },
          "metadata": {
            "tags": []
          }
        }
      ]
    },
    {
      "cell_type": "markdown",
      "metadata": {
        "id": "M9RE11mx_jkA",
        "colab_type": "text"
      },
      "source": [
        "Now it's quite high MSE"
      ]
    },
    {
      "cell_type": "markdown",
      "metadata": {
        "id": "tV0DlrXd_sEj",
        "colab_type": "text"
      },
      "source": [
        "Now let's try Multiple layer auto encoders\n",
        "<br> Its strongly recomended to have symmetry "
      ]
    },
    {
      "cell_type": "code",
      "metadata": {
        "id": "Cemigc5z_hWA",
        "colab_type": "code",
        "colab": {
          "base_uri": "https://localhost:8080/",
          "height": 69
        },
        "outputId": "3202efbc-9778-4f1f-f79d-a1ddd6d1028a"
      },
      "source": [
        "mm_AE_1 = ae(hidden=[5,3,5], activation='Tanh', epochs=300, model_id='m_AE_1',\n",
        "            train_samples_per_iteration=train.nrow, score_interval=0, score_duty_cycle=1.0,\n",
        "            stopping_rounds=15)\n",
        "%time mm_AE_1.train(x, None, train)"
      ],
      "execution_count": 28,
      "outputs": [
        {
          "output_type": "stream",
          "text": [
            "deeplearning Model Build progress: |██████████████████████████████████████| 100%\n",
            "CPU times: user 135 ms, sys: 14.8 ms, total: 150 ms\n",
            "Wall time: 1.92 s\n"
          ],
          "name": "stdout"
        }
      ]
    },
    {
      "cell_type": "code",
      "metadata": {
        "id": "Y_vKgLFSAVBJ",
        "colab_type": "code",
        "colab": {
          "base_uri": "https://localhost:8080/",
          "height": 282
        },
        "outputId": "7aa58658-bc28-4b11-e477-f8f2075be611"
      },
      "source": [
        "sh = mm_AE_1.score_history()\n",
        "sh['training_mse'].tail(50).plot()"
      ],
      "execution_count": 29,
      "outputs": [
        {
          "output_type": "execute_result",
          "data": {
            "text/plain": [
              "<matplotlib.axes._subplots.AxesSubplot at 0x7fbeb0def978>"
            ]
          },
          "metadata": {
            "tags": []
          },
          "execution_count": 29
        },
        {
          "output_type": "display_data",
          "data": {
            "image/png": "[encoded data removed]",
            "text/plain": [
              "<Figure size 432x288 with 1 Axes>"
            ]
          },
          "metadata": {
            "tags": []
          }
        }
      ]
    },
    {
      "cell_type": "markdown",
      "metadata": {
        "id": "uX1CwY_TAoTP",
        "colab_type": "text"
      },
      "source": [
        "Now Stacked autoencoders "
      ]
    },
    {
      "cell_type": "code",
      "metadata": {
        "id": "O0RUsdriAaOM",
        "colab_type": "code",
        "colab": {
          "base_uri": "https://localhost:8080/",
          "height": 34
        },
        "outputId": "a7a8ed9b-cd53-4d1e-e63d-399c03131c61"
      },
      "source": [
        "train_AE_3 = m_AE_3.deepfeatures(train, 0) #0 is the first layer"
      ],
      "execution_count": 30,
      "outputs": [
        {
          "output_type": "stream",
          "text": [
            "deepfeatures progress: |██████████████████████████████████████████████████| 100%\n"
          ],
          "name": "stdout"
        }
      ]
    },
    {
      "cell_type": "code",
      "metadata": {
        "id": "9n99ZER-A74R",
        "colab_type": "code",
        "colab": {
          "base_uri": "https://localhost:8080/",
          "height": 34
        },
        "outputId": "66016e73-df1f-4d72-857d-58ebfb21ef98"
      },
      "source": [
        "train_AE_3.dim"
      ],
      "execution_count": 31,
      "outputs": [
        {
          "output_type": "execute_result",
          "data": {
            "text/plain": [
              "[123, 3]"
            ]
          },
          "metadata": {
            "tags": []
          },
          "execution_count": 31
        }
      ]
    },
    {
      "cell_type": "code",
      "metadata": {
        "id": "aBIXUWHkA-In",
        "colab_type": "code",
        "colab": {
          "base_uri": "https://localhost:8080/",
          "height": 244
        },
        "outputId": "30ca90dd-32e2-4b71-d197-8b7c0751aa3c"
      },
      "source": [
        "train_AE_3"
      ],
      "execution_count": 32,
      "outputs": [
        {
          "output_type": "display_data",
          "data": {
            "text/html": [
              "<table>\n",
              "<thead>\n",
              "<tr><th style=\"text-align: right;\">  DF.L1.C1</th><th style=\"text-align: right;\">  DF.L1.C2</th><th style=\"text-align: right;\">  DF.L1.C3</th></tr>\n",
              "</thead>\n",
              "<tbody>\n",
              "<tr><td style=\"text-align: right;\">  0.460519</td><td style=\"text-align: right;\">  0.292908</td><td style=\"text-align: right;\">  0.259209</td></tr>\n",
              "<tr><td style=\"text-align: right;\">  0.399518</td><td style=\"text-align: right;\">  0.423897</td><td style=\"text-align: right;\">  0.174625</td></tr>\n",
              "<tr><td style=\"text-align: right;\">  0.375157</td><td style=\"text-align: right;\">  0.44802 </td><td style=\"text-align: right;\">  0.13234 </td></tr>\n",
              "<tr><td style=\"text-align: right;\">  0.427083</td><td style=\"text-align: right;\">  0.162501</td><td style=\"text-align: right;\">  0.351542</td></tr>\n",
              "<tr><td style=\"text-align: right;\">  0.440751</td><td style=\"text-align: right;\">  0.324609</td><td style=\"text-align: right;\">  0.223644</td></tr>\n",
              "<tr><td style=\"text-align: right;\">  0.34201 </td><td style=\"text-align: right;\">  0.513954</td><td style=\"text-align: right;\">  0.074066</td></tr>\n",
              "<tr><td style=\"text-align: right;\">  0.45509 </td><td style=\"text-align: right;\">  0.381084</td><td style=\"text-align: right;\">  0.131722</td></tr>\n",
              "<tr><td style=\"text-align: right;\">  0.501954</td><td style=\"text-align: right;\">  0.189058</td><td style=\"text-align: right;\">  0.311185</td></tr>\n",
              "<tr><td style=\"text-align: right;\">  0.411574</td><td style=\"text-align: right;\">  0.363196</td><td style=\"text-align: right;\">  0.222791</td></tr>\n",
              "<tr><td style=\"text-align: right;\">  0.385135</td><td style=\"text-align: right;\">  0.526469</td><td style=\"text-align: right;\">  0.133241</td></tr>\n",
              "</tbody>\n",
              "</table>"
            ]
          },
          "metadata": {
            "tags": []
          }
        },
        {
          "output_type": "execute_result",
          "data": {
            "text/plain": [
              ""
            ]
          },
          "metadata": {
            "tags": []
          },
          "execution_count": 32
        }
      ]
    },
    {
      "cell_type": "markdown",
      "metadata": {
        "id": "jPKyZjDmBFef",
        "colab_type": "text"
      },
      "source": [
        "Now we will use ↑ data as training data"
      ]
    },
    {
      "cell_type": "code",
      "metadata": {
        "id": "cM6MsYG9A_l4",
        "colab_type": "code",
        "colab": {
          "base_uri": "https://localhost:8080/",
          "height": 69
        },
        "outputId": "7b4a3500-2583-44a1-b9b8-3d9d40f2b0e4"
      },
      "source": [
        "m_AE_3x3 = ae(hidden=[3], activation='Tanh', epochs=300, model_id='m_AE_3x3',\n",
        "            train_samples_per_iteration=train.nrow, score_interval=0, score_duty_cycle=1.0,\n",
        "            stopping_rounds=15)\n",
        "\n",
        "%time m_AE_3x3.train([0,1,2], None, train_AE_3)"
      ],
      "execution_count": 33,
      "outputs": [
        {
          "output_type": "stream",
          "text": [
            "deeplearning Model Build progress: |██████████████████████████████████████| 100%\n",
            "CPU times: user 128 ms, sys: 7.62 ms, total: 135 ms\n",
            "Wall time: 1.93 s\n"
          ],
          "name": "stdout"
        }
      ]
    },
    {
      "cell_type": "code",
      "metadata": {
        "id": "vA9tK0T6BvPA",
        "colab_type": "code",
        "colab": {
          "base_uri": "https://localhost:8080/",
          "height": 282
        },
        "outputId": "db5a839d-c717-4a70-f2cf-c60295fa1f5a"
      },
      "source": [
        "sh = m_AE_3x3.score_history()\n",
        "sh['training_mse'].tail(50).plot()"
      ],
      "execution_count": 34,
      "outputs": [
        {
          "output_type": "execute_result",
          "data": {
            "text/plain": [
              "<matplotlib.axes._subplots.AxesSubplot at 0x7fbeb0c12f28>"
            ]
          },
          "metadata": {
            "tags": []
          },
          "execution_count": 34
        },
        {
          "output_type": "display_data",
          "data": {
            "image/png": "[encoded data removed]",
            "text/plain": [
              "<Figure size 432x288 with 1 Axes>"
            ]
          },
          "metadata": {
            "tags": []
          }
        }
      ]
    },
    {
      "cell_type": "code",
      "metadata": {
        "id": "1NdWbo1jCMPU",
        "colab_type": "code",
        "colab": {}
      },
      "source": [
        ""
      ],
      "execution_count": 0,
      "outputs": []
    },
    {
      "cell_type": "markdown",
      "metadata": {
        "id": "0nkgHAx8CLdY",
        "colab_type": "text"
      },
      "source": [
        "Finding Anomalies"
      ]
    },
    {
      "cell_type": "code",
      "metadata": {
        "id": "saDP-1oOB2Ac",
        "colab_type": "code",
        "colab": {}
      },
      "source": [
        "x.append('class')"
      ],
      "execution_count": 0,
      "outputs": []
    },
    {
      "cell_type": "code",
      "metadata": {
        "id": "i2pZSMuQDKrg",
        "colab_type": "code",
        "colab": {
          "base_uri": "https://localhost:8080/",
          "height": 34
        },
        "outputId": "8f7b4c05-9e9a-42c8-bfbf-96e3a14e18bd"
      },
      "source": [
        "x"
      ],
      "execution_count": 36,
      "outputs": [
        {
          "output_type": "execute_result",
          "data": {
            "text/plain": [
              "['sepal_len', 'sepal_wid', 'petal_len', 'petal_wid', 'class']"
            ]
          },
          "metadata": {
            "tags": []
          },
          "execution_count": 36
        }
      ]
    },
    {
      "cell_type": "code",
      "metadata": {
        "id": "SS4RhQ5ZCe4l",
        "colab_type": "code",
        "colab": {
          "base_uri": "https://localhost:8080/",
          "height": 69
        },
        "outputId": "83f16a59-6e12-4268-a994-404a5a800e48"
      },
      "source": [
        "m_anomly16 = ae(hidden=[16], activation='Tanh', epochs=300, model_id='anomy_model',\n",
        "                train_samples_per_iteration=train.nrow, score_interval=0, score_duty_cycle=1.0,\n",
        "                stopping_rounds=15)\n",
        "%time m_anomly16.train(x, None, iris)"
      ],
      "execution_count": 37,
      "outputs": [
        {
          "output_type": "stream",
          "text": [
            "deeplearning Model Build progress: |██████████████████████████████████████| 100%\n",
            "CPU times: user 131 ms, sys: 11.7 ms, total: 143 ms\n",
            "Wall time: 2.78 s\n"
          ],
          "name": "stdout"
        }
      ]
    },
    {
      "cell_type": "code",
      "metadata": {
        "id": "kf8An1mjDOZR",
        "colab_type": "code",
        "colab": {}
      },
      "source": [
        "anomalies = m_anomly16.anomaly(iris).cbind(iris).as_data_frame()\n",
        "#             RE error  appends -    original data"
      ],
      "execution_count": 0,
      "outputs": []
    },
    {
      "cell_type": "code",
      "metadata": {
        "id": "5eFHqSWUDqb-",
        "colab_type": "code",
        "colab": {
          "base_uri": "https://localhost:8080/",
          "height": 198
        },
        "outputId": "3dfa2a44-3df6-4008-befa-d3ccfce6e013"
      },
      "source": [
        "s = anomalies.sort_values('Reconstruction.MSE', ascending=False)\n",
        "s.head()"
      ],
      "execution_count": 39,
      "outputs": [
        {
          "output_type": "execute_result",
          "data": {
            "text/html": [
              "<div>\n",
              "<style scoped>\n",
              "    .dataframe tbody tr th:only-of-type {\n",
              "        vertical-align: middle;\n",
              "    }\n",
              "\n",
              "    .dataframe tbody tr th {\n",
              "        vertical-align: top;\n",
              "    }\n",
              "\n",
              "    .dataframe thead th {\n",
              "        text-align: right;\n",
              "    }\n",
              "</style>\n",
              "<table border=\"1\" class=\"dataframe\">\n",
              "  <thead>\n",
              "    <tr style=\"text-align: right;\">\n",
              "      <th></th>\n",
              "      <th>Reconstruction.MSE</th>\n",
              "      <th>sepal_len</th>\n",
              "      <th>sepal_wid</th>\n",
              "      <th>petal_len</th>\n",
              "      <th>petal_wid</th>\n",
              "      <th>class</th>\n",
              "    </tr>\n",
              "  </thead>\n",
              "  <tbody>\n",
              "    <tr>\n",
              "      <th>118</th>\n",
              "      <td>0.000458</td>\n",
              "      <td>7.7</td>\n",
              "      <td>2.6</td>\n",
              "      <td>6.9</td>\n",
              "      <td>2.3</td>\n",
              "      <td>Iris-virginica</td>\n",
              "    </tr>\n",
              "    <tr>\n",
              "      <th>15</th>\n",
              "      <td>0.000161</td>\n",
              "      <td>5.7</td>\n",
              "      <td>4.4</td>\n",
              "      <td>1.5</td>\n",
              "      <td>0.4</td>\n",
              "      <td>Iris-setosa</td>\n",
              "    </tr>\n",
              "    <tr>\n",
              "      <th>41</th>\n",
              "      <td>0.000160</td>\n",
              "      <td>4.5</td>\n",
              "      <td>2.3</td>\n",
              "      <td>1.3</td>\n",
              "      <td>0.3</td>\n",
              "      <td>Iris-setosa</td>\n",
              "    </tr>\n",
              "    <tr>\n",
              "      <th>106</th>\n",
              "      <td>0.000157</td>\n",
              "      <td>4.9</td>\n",
              "      <td>2.5</td>\n",
              "      <td>4.5</td>\n",
              "      <td>1.7</td>\n",
              "      <td>Iris-virginica</td>\n",
              "    </tr>\n",
              "    <tr>\n",
              "      <th>135</th>\n",
              "      <td>0.000141</td>\n",
              "      <td>7.7</td>\n",
              "      <td>3.0</td>\n",
              "      <td>6.1</td>\n",
              "      <td>2.3</td>\n",
              "      <td>Iris-virginica</td>\n",
              "    </tr>\n",
              "  </tbody>\n",
              "</table>\n",
              "</div>"
            ],
            "text/plain": [
              "     Reconstruction.MSE  sepal_len  ...  petal_wid           class\n",
              "118            0.000458        7.7  ...        2.3  Iris-virginica\n",
              "15             0.000161        5.7  ...        0.4     Iris-setosa\n",
              "41             0.000160        4.5  ...        0.3     Iris-setosa\n",
              "106            0.000157        4.9  ...        1.7  Iris-virginica\n",
              "135            0.000141        7.7  ...        2.3  Iris-virginica\n",
              "\n",
              "[5 rows x 6 columns]"
            ]
          },
          "metadata": {
            "tags": []
          },
          "execution_count": 39
        }
      ]
    },
    {
      "cell_type": "code",
      "metadata": {
        "id": "97FMHdv-D49n",
        "colab_type": "code",
        "colab": {
          "base_uri": "https://localhost:8080/",
          "height": 198
        },
        "outputId": "1ae9a555-1341-4039-c9b3-182c3b36bd3c"
      },
      "source": [
        "s.tail()"
      ],
      "execution_count": 40,
      "outputs": [
        {
          "output_type": "execute_result",
          "data": {
            "text/html": [
              "<div>\n",
              "<style scoped>\n",
              "    .dataframe tbody tr th:only-of-type {\n",
              "        vertical-align: middle;\n",
              "    }\n",
              "\n",
              "    .dataframe tbody tr th {\n",
              "        vertical-align: top;\n",
              "    }\n",
              "\n",
              "    .dataframe thead th {\n",
              "        text-align: right;\n",
              "    }\n",
              "</style>\n",
              "<table border=\"1\" class=\"dataframe\">\n",
              "  <thead>\n",
              "    <tr style=\"text-align: right;\">\n",
              "      <th></th>\n",
              "      <th>Reconstruction.MSE</th>\n",
              "      <th>sepal_len</th>\n",
              "      <th>sepal_wid</th>\n",
              "      <th>petal_len</th>\n",
              "      <th>petal_wid</th>\n",
              "      <th>class</th>\n",
              "    </tr>\n",
              "  </thead>\n",
              "  <tbody>\n",
              "    <tr>\n",
              "      <th>111</th>\n",
              "      <td>2.784281e-06</td>\n",
              "      <td>6.4</td>\n",
              "      <td>2.7</td>\n",
              "      <td>5.3</td>\n",
              "      <td>1.9</td>\n",
              "      <td>Iris-virginica</td>\n",
              "    </tr>\n",
              "    <tr>\n",
              "      <th>86</th>\n",
              "      <td>2.278759e-06</td>\n",
              "      <td>6.7</td>\n",
              "      <td>3.1</td>\n",
              "      <td>4.7</td>\n",
              "      <td>1.5</td>\n",
              "      <td>Iris-versicolor</td>\n",
              "    </tr>\n",
              "    <tr>\n",
              "      <th>75</th>\n",
              "      <td>2.085380e-06</td>\n",
              "      <td>6.6</td>\n",
              "      <td>3.0</td>\n",
              "      <td>4.4</td>\n",
              "      <td>1.4</td>\n",
              "      <td>Iris-versicolor</td>\n",
              "    </tr>\n",
              "    <tr>\n",
              "      <th>51</th>\n",
              "      <td>1.185308e-06</td>\n",
              "      <td>6.4</td>\n",
              "      <td>3.2</td>\n",
              "      <td>4.5</td>\n",
              "      <td>1.5</td>\n",
              "      <td>Iris-versicolor</td>\n",
              "    </tr>\n",
              "    <tr>\n",
              "      <th>65</th>\n",
              "      <td>6.297687e-07</td>\n",
              "      <td>6.7</td>\n",
              "      <td>3.1</td>\n",
              "      <td>4.4</td>\n",
              "      <td>1.4</td>\n",
              "      <td>Iris-versicolor</td>\n",
              "    </tr>\n",
              "  </tbody>\n",
              "</table>\n",
              "</div>"
            ],
            "text/plain": [
              "     Reconstruction.MSE  sepal_len  ...  petal_wid            class\n",
              "111        2.784281e-06        6.4  ...        1.9   Iris-virginica\n",
              "86         2.278759e-06        6.7  ...        1.5  Iris-versicolor\n",
              "75         2.085380e-06        6.6  ...        1.4  Iris-versicolor\n",
              "51         1.185308e-06        6.4  ...        1.5  Iris-versicolor\n",
              "65         6.297687e-07        6.7  ...        1.4  Iris-versicolor\n",
              "\n",
              "[5 rows x 6 columns]"
            ]
          },
          "metadata": {
            "tags": []
          },
          "execution_count": 40
        }
      ]
    },
    {
      "cell_type": "code",
      "metadata": {
        "id": "P7sJalUGEM7H",
        "colab_type": "code",
        "colab": {}
      },
      "source": [
        ""
      ],
      "execution_count": 0,
      "outputs": []
    }
  ]
}