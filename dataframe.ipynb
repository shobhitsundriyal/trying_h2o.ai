{
  "nbformat": 4,
  "nbformat_minor": 0,
  "metadata": {
    "colab": {
      "name": "dataframe.ipynb",
      "provenance": []
    },
    "kernelspec": {
      "name": "python3",
      "display_name": "Python 3"
    }
  },
  "cells": [
    {
      "cell_type": "code",
      "metadata": {
        "id": "JlI2I7t8DwaG",
        "colab_type": "code",
        "colab": {}
      },
      "source": [
        "! apt-get install default-jre\n",
        "!java -version\n",
        "! pip install h2o\n",
        "import h2o\n",
        "h2o.init()"
      ],
      "execution_count": 0,
      "outputs": []
    },
    {
      "cell_type": "code",
      "metadata": {
        "id": "FJBDJfnqEFZS",
        "colab_type": "code",
        "colab": {}
      },
      "source": [
        "import numpy as np\n",
        "import pandas as pd\n",
        "import matplotlib.pyplot as plt"
      ],
      "execution_count": 0,
      "outputs": []
    },
    {
      "cell_type": "code",
      "metadata": {
        "id": "D0aclDx3EULd",
        "colab_type": "code",
        "colab": {}
      },
      "source": [
        "x = [z*0.01 for z in range(1001)]"
      ],
      "execution_count": 0,
      "outputs": []
    },
    {
      "cell_type": "code",
      "metadata": {
        "id": "bumZXn4EEim9",
        "colab_type": "code",
        "colab": {
          "base_uri": "https://localhost:8080/",
          "height": 52
        },
        "outputId": "694599e3-31a6-4044-ac23-a6e0f429c99c"
      },
      "source": [
        "print(x[0:5])\n",
        "print(x[995:1001])"
      ],
      "execution_count": 4,
      "outputs": [
        {
          "output_type": "stream",
          "text": [
            "[0.0, 0.01, 0.02, 0.03, 0.04]\n",
            "[9.950000000000001, 9.96, 9.97, 9.98, 9.99, 10.0]\n"
          ],
          "name": "stdout"
        }
      ]
    },
    {
      "cell_type": "code",
      "metadata": {
        "id": "B7YVE9iHEwDK",
        "colab_type": "code",
        "colab": {
          "base_uri": "https://localhost:8080/",
          "height": 265
        },
        "outputId": "b522565e-4bc1-4ba3-ceea-0d6af42516d7"
      },
      "source": [
        "y = np.sin(x)\n",
        "y = y + np.random.normal(0, 0.1, len(x))\n",
        "\n",
        "plt.plot(x, y)\n",
        "plt.show()"
      ],
      "execution_count": 12,
      "outputs": [
        {
          "output_type": "display_data",
          "data": {
            "image/png": "[encoded data removed]",
            "text/plain": [
              "<Figure size 432x288 with 1 Axes>"
            ]
          },
          "metadata": {
            "tags": []
          }
        }
      ]
    },
    {
      "cell_type": "code",
      "metadata": {
        "id": "yjUb5FNhFAQG",
        "colab_type": "code",
        "colab": {}
      },
      "source": [
        "sin_wave = pd.DataFrame({\n",
        "    'a': x,\n",
        "    'b': y\n",
        "})"
      ],
      "execution_count": 0,
      "outputs": []
    },
    {
      "cell_type": "code",
      "metadata": {
        "id": "LSZH5TMEFYuf",
        "colab_type": "code",
        "colab": {
          "base_uri": "https://localhost:8080/",
          "height": 34
        },
        "outputId": "d0273e63-dff4-4039-dbef-63085c4bf4a9"
      },
      "source": [
        "sin_h2o = h2o.H2OFrame(sin_wave)"
      ],
      "execution_count": 14,
      "outputs": [
        {
          "output_type": "stream",
          "text": [
            "Parse progress: |█████████████████████████████████████████████████████████| 100%\n"
          ],
          "name": "stdout"
        }
      ]
    },
    {
      "cell_type": "code",
      "metadata": {
        "id": "X_malj8yFm5o",
        "colab_type": "code",
        "colab": {
          "base_uri": "https://localhost:8080/",
          "height": 388
        },
        "outputId": "c3732e96-f555-4329-921e-a4cffa0c4dec"
      },
      "source": [
        "sin_h2o.summary()"
      ],
      "execution_count": 15,
      "outputs": [
        {
          "output_type": "display_data",
          "data": {
            "text/html": [
              "<table>\n",
              "<thead>\n",
              "<tr><th>       </th><th>a                </th><th>b                   </th></tr>\n",
              "</thead>\n",
              "<tbody>\n",
              "<tr><td>type   </td><td>real             </td><td>real                </td></tr>\n",
              "<tr><td>mins   </td><td>0.0              </td><td>-1.2109948842623033 </td></tr>\n",
              "<tr><td>mean   </td><td>4.999999999999934</td><td>0.17972519664821113 </td></tr>\n",
              "<tr><td>maxs   </td><td>10.0             </td><td>1.226670365886082   </td></tr>\n",
              "<tr><td>sigma  </td><td>2.891081112663593</td><td>0.6735013517323242  </td></tr>\n",
              "<tr><td>zeros  </td><td>1                </td><td>0                   </td></tr>\n",
              "<tr><td>missing</td><td>0                </td><td>0                   </td></tr>\n",
              "<tr><td>0      </td><td>0.0              </td><td>-0.0914769624213054 </td></tr>\n",
              "<tr><td>1      </td><td>0.01             </td><td>-0.07222360003512888</td></tr>\n",
              "<tr><td>2      </td><td>0.02             </td><td>-0.10622495995785863</td></tr>\n",
              "<tr><td>3      </td><td>0.03             </td><td>-0.10040853388251322</td></tr>\n",
              "<tr><td>4      </td><td>0.04             </td><td>-0.06271414773846637</td></tr>\n",
              "<tr><td>5      </td><td>0.05             </td><td>0.0966307044961976  </td></tr>\n",
              "<tr><td>6      </td><td>0.06             </td><td>0.02533501980431331 </td></tr>\n",
              "<tr><td>7      </td><td>0.07             </td><td>0.04744541336431386 </td></tr>\n",
              "<tr><td>8      </td><td>0.08             </td><td>0.09037262205752555 </td></tr>\n",
              "<tr><td>9      </td><td>0.09             </td><td>0.02086588095379703 </td></tr>\n",
              "</tbody>\n",
              "</table>"
            ]
          },
          "metadata": {
            "tags": []
          }
        }
      ]
    },
    {
      "cell_type": "code",
      "metadata": {
        "id": "nkOVZGJkFqCY",
        "colab_type": "code",
        "colab": {}
      },
      "source": [
        "#optional if want to see name of frame in h2o server\n",
        "#sin_h2o = h2o.H2OFrame(sin_wave, destination_frame = 'NAME')"
      ],
      "execution_count": 0,
      "outputs": []
    },
    {
      "cell_type": "code",
      "metadata": {
        "id": "ErdehG4PF9tx",
        "colab_type": "code",
        "colab": {
          "base_uri": "https://localhost:8080/",
          "height": 408
        },
        "outputId": "cb453be3-86c5-4bf5-d353-e37727cbbe9d"
      },
      "source": [
        " sin_h2o.as_data_frame() # convert to pandas df"
      ],
      "execution_count": 18,
      "outputs": [
        {
          "output_type": "execute_result",
          "data": {
            "text/html": [
              "<div>\n",
              "<style scoped>\n",
              "    .dataframe tbody tr th:only-of-type {\n",
              "        vertical-align: middle;\n",
              "    }\n",
              "\n",
              "    .dataframe tbody tr th {\n",
              "        vertical-align: top;\n",
              "    }\n",
              "\n",
              "    .dataframe thead th {\n",
              "        text-align: right;\n",
              "    }\n",
              "</style>\n",
              "<table border=\"1\" class=\"dataframe\">\n",
              "  <thead>\n",
              "    <tr style=\"text-align: right;\">\n",
              "      <th></th>\n",
              "      <th>a</th>\n",
              "      <th>b</th>\n",
              "    </tr>\n",
              "  </thead>\n",
              "  <tbody>\n",
              "    <tr>\n",
              "      <th>0</th>\n",
              "      <td>0.00</td>\n",
              "      <td>-0.091477</td>\n",
              "    </tr>\n",
              "    <tr>\n",
              "      <th>1</th>\n",
              "      <td>0.01</td>\n",
              "      <td>-0.072224</td>\n",
              "    </tr>\n",
              "    <tr>\n",
              "      <th>2</th>\n",
              "      <td>0.02</td>\n",
              "      <td>-0.106225</td>\n",
              "    </tr>\n",
              "    <tr>\n",
              "      <th>3</th>\n",
              "      <td>0.03</td>\n",
              "      <td>-0.100409</td>\n",
              "    </tr>\n",
              "    <tr>\n",
              "      <th>4</th>\n",
              "      <td>0.04</td>\n",
              "      <td>-0.062714</td>\n",
              "    </tr>\n",
              "    <tr>\n",
              "      <th>...</th>\n",
              "      <td>...</td>\n",
              "      <td>...</td>\n",
              "    </tr>\n",
              "    <tr>\n",
              "      <th>996</th>\n",
              "      <td>9.96</td>\n",
              "      <td>-0.631910</td>\n",
              "    </tr>\n",
              "    <tr>\n",
              "      <th>997</th>\n",
              "      <td>9.97</td>\n",
              "      <td>-0.530257</td>\n",
              "    </tr>\n",
              "    <tr>\n",
              "      <th>998</th>\n",
              "      <td>9.98</td>\n",
              "      <td>-0.635309</td>\n",
              "    </tr>\n",
              "    <tr>\n",
              "      <th>999</th>\n",
              "      <td>9.99</td>\n",
              "      <td>-0.505832</td>\n",
              "    </tr>\n",
              "    <tr>\n",
              "      <th>1000</th>\n",
              "      <td>10.00</td>\n",
              "      <td>-0.510276</td>\n",
              "    </tr>\n",
              "  </tbody>\n",
              "</table>\n",
              "<p>1001 rows × 2 columns</p>\n",
              "</div>"
            ],
            "text/plain": [
              "          a         b\n",
              "0      0.00 -0.091477\n",
              "1      0.01 -0.072224\n",
              "2      0.02 -0.106225\n",
              "3      0.03 -0.100409\n",
              "4      0.04 -0.062714\n",
              "...     ...       ...\n",
              "996    9.96 -0.631910\n",
              "997    9.97 -0.530257\n",
              "998    9.98 -0.635309\n",
              "999    9.99 -0.505832\n",
              "1000  10.00 -0.510276\n",
              "\n",
              "[1001 rows x 2 columns]"
            ]
          },
          "metadata": {
            "tags": []
          },
          "execution_count": 18
        }
      ]
    },
    {
      "cell_type": "code",
      "metadata": {
        "id": "7NnqqwSaGHlr",
        "colab_type": "code",
        "colab": {}
      },
      "source": [
        ""
      ],
      "execution_count": 0,
      "outputs": []
    }
  ]
}