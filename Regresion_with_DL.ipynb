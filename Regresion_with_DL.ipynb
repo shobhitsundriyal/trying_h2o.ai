{
  "nbformat": 4,
  "nbformat_minor": 0,
  "metadata": {
    "colab": {
      "name": "Regresion with DL.ipynb",
      "provenance": []
    },
    "kernelspec": {
      "name": "python3",
      "display_name": "Python 3"
    }
  },
  "cells": [
    {
      "cell_type": "code",
      "metadata": {
        "id": "6tVNvrEWqFvt",
        "colab_type": "code",
        "colab": {
          "base_uri": "https://localhost:8080/",
          "height": 1000
        },
        "outputId": "c0113d15-379b-4720-df14-7a7513d4ba4b"
      },
      "source": [
        "! apt-get install default-jre\n",
        "!java -version\n",
        "! pip install h2o\n",
        "import h2o\n",
        "h2o.init()"
      ],
      "execution_count": 1,
      "outputs": [
        {
          "output_type": "stream",
          "text": [
            "\rReading package lists... 0%\r\rReading package lists... 0%\r\rReading package lists... 0%\r\rReading package lists... 7%\r\rReading package lists... 7%\r\rReading package lists... 7%\r\rReading package lists... 7%\r\rReading package lists... 65%\r\rReading package lists... 65%\r\rReading package lists... 66%\r\rReading package lists... 66%\r\rReading package lists... 66%\r\rReading package lists... 73%\r\rReading package lists... 73%\r\rReading package lists... 73%\r\rReading package lists... 73%\r\rReading package lists... 82%\r\rReading package lists... 82%\r\rReading package lists... 82%\r\rReading package lists... 82%\r\rReading package lists... 82%\r\rReading package lists... 82%\r\rReading package lists... 82%\r\rReading package lists... 82%\r\rReading package lists... 87%\r\rReading package lists... 87%\r\rReading package lists... 87%\r\rReading package lists... 87%\r\rReading package lists... 93%\r\rReading package lists... 93%\r\rReading package lists... 93%\r\rReading package lists... 93%\r\rReading package lists... 93%\r\rReading package lists... 93%\r\rReading package lists... 94%\r\rReading package lists... 94%\r\rReading package lists... 95%\r\rReading package lists... 95%\r\rReading package lists... 98%\r\rReading package lists... 98%\r\rReading package lists... 98%\r\rReading package lists... 98%\r\rReading package lists... Done\r\n",
            "\rBuilding dependency tree... 0%\r\rBuilding dependency tree... 0%\r\rBuilding dependency tree... 50%\r\rBuilding dependency tree... 50%\r\rBuilding dependency tree       \r\n",
            "\rReading state information... 0%\r\rReading state information... 0%\r\rReading state information... Done\r\n",
            "default-jre is already the newest version (2:1.11-68ubuntu1~18.04.1).\n",
            "default-jre set to manually installed.\n",
            "The following package was automatically installed and is no longer required:\n",
            "  libnvidia-common-430\n",
            "Use 'apt autoremove' to remove it.\n",
            "0 upgraded, 0 newly installed, 0 to remove and 7 not upgraded.\n",
            "openjdk version \"11.0.5\" 2019-10-15\n",
            "OpenJDK Runtime Environment (build 11.0.5+10-post-Ubuntu-0ubuntu1.118.04)\n",
            "OpenJDK 64-Bit Server VM (build 11.0.5+10-post-Ubuntu-0ubuntu1.118.04, mixed mode, sharing)\n",
            "Collecting h2o\n",
            "\u001b[?25l  Downloading https://files.pythonhosted.org/packages/6b/d1/aaa74df4716b2454d6034261807ef3855d014862c801f0e9b803b568006d/h2o-3.28.0.1.tar.gz (123.4MB)\n",
            "\u001b[K     |████████████████████████████████| 123.4MB 91kB/s \n",
            "\u001b[?25hRequirement already satisfied: requests in /usr/local/lib/python3.6/dist-packages (from h2o) (2.21.0)\n",
            "Requirement already satisfied: tabulate in /usr/local/lib/python3.6/dist-packages (from h2o) (0.8.6)\n",
            "Requirement already satisfied: future in /usr/local/lib/python3.6/dist-packages (from h2o) (0.16.0)\n",
            "Collecting colorama>=0.3.8\n",
            "  Downloading https://files.pythonhosted.org/packages/c9/dc/45cdef1b4d119eb96316b3117e6d5708a08029992b2fee2c143c7a0a5cc5/colorama-0.4.3-py2.py3-none-any.whl\n",
            "Requirement already satisfied: certifi>=2017.4.17 in /usr/local/lib/python3.6/dist-packages (from requests->h2o) (2019.11.28)\n",
            "Requirement already satisfied: chardet<3.1.0,>=3.0.2 in /usr/local/lib/python3.6/dist-packages (from requests->h2o) (3.0.4)\n",
            "Requirement already satisfied: urllib3<1.25,>=1.21.1 in /usr/local/lib/python3.6/dist-packages (from requests->h2o) (1.24.3)\n",
            "Requirement already satisfied: idna<2.9,>=2.5 in /usr/local/lib/python3.6/dist-packages (from requests->h2o) (2.8)\n",
            "Building wheels for collected packages: h2o\n",
            "  Building wheel for h2o (setup.py) ... \u001b[?25l\u001b[?25hdone\n",
            "  Created wheel for h2o: filename=h2o-3.28.0.1-py2.py3-none-any.whl size=123410554 sha256=5895d07d8bf4191a90b1b6ceef50c5e45b8ee2c9a1523139e3c88c721c153c56\n",
            "  Stored in directory: /root/.cache/pip/wheels/ff/82/f4/3fe9c895b93c53b25ae44dc44aa54dad571c711f48bc485fe9\n",
            "Successfully built h2o\n",
            "Installing collected packages: colorama, h2o\n",
            "Successfully installed colorama-0.4.3 h2o-3.28.0.1\n",
            "Checking whether there is an H2O instance running at http://localhost:54321 ..... not found.\n",
            "Attempting to start a local H2O server...\n",
            "  Java Version: openjdk version \"11.0.5\" 2019-10-15; OpenJDK Runtime Environment (build 11.0.5+10-post-Ubuntu-0ubuntu1.118.04); OpenJDK 64-Bit Server VM (build 11.0.5+10-post-Ubuntu-0ubuntu1.118.04, mixed mode, sharing)\n",
            "  Starting server from /usr/local/lib/python3.6/dist-packages/h2o/backend/bin/h2o.jar\n",
            "  Ice root: /tmp/tmp82c0h4kt\n",
            "  JVM stdout: /tmp/tmp82c0h4kt/h2o_unknownUser_started_from_python.out\n",
            "  JVM stderr: /tmp/tmp82c0h4kt/h2o_unknownUser_started_from_python.err\n",
            "  Server is running at http://127.0.0.1:54321\n",
            "Connecting to H2O server at http://127.0.0.1:54321 ... successful.\n"
          ],
          "name": "stdout"
        },
        {
          "output_type": "display_data",
          "data": {
            "text/html": [
              "<div style=\"overflow:auto\"><table style=\"width:50%\"><tr><td>H2O cluster uptime:</td>\n",
              "<td>02 secs</td></tr>\n",
              "<tr><td>H2O cluster timezone:</td>\n",
              "<td>Etc/UTC</td></tr>\n",
              "<tr><td>H2O data parsing timezone:</td>\n",
              "<td>UTC</td></tr>\n",
              "<tr><td>H2O cluster version:</td>\n",
              "<td>3.28.0.1</td></tr>\n",
              "<tr><td>H2O cluster version age:</td>\n",
              "<td>3 days </td></tr>\n",
              "<tr><td>H2O cluster name:</td>\n",
              "<td>H2O_from_python_unknownUser_z2s55l</td></tr>\n",
              "<tr><td>H2O cluster total nodes:</td>\n",
              "<td>1</td></tr>\n",
              "<tr><td>H2O cluster free memory:</td>\n",
              "<td>3 Gb</td></tr>\n",
              "<tr><td>H2O cluster total cores:</td>\n",
              "<td>2</td></tr>\n",
              "<tr><td>H2O cluster allowed cores:</td>\n",
              "<td>2</td></tr>\n",
              "<tr><td>H2O cluster status:</td>\n",
              "<td>accepting new members, healthy</td></tr>\n",
              "<tr><td>H2O connection url:</td>\n",
              "<td>http://127.0.0.1:54321</td></tr>\n",
              "<tr><td>H2O connection proxy:</td>\n",
              "<td>{'http': None, 'https': None}</td></tr>\n",
              "<tr><td>H2O internal security:</td>\n",
              "<td>False</td></tr>\n",
              "<tr><td>H2O API Extensions:</td>\n",
              "<td>Amazon S3, XGBoost, Algos, AutoML, Core V3, TargetEncoder, Core V4</td></tr>\n",
              "<tr><td>Python version:</td>\n",
              "<td>3.6.9 final</td></tr></table></div>"
            ],
            "text/plain": [
              "--------------------------  ------------------------------------------------------------------\n",
              "H2O cluster uptime:         02 secs\n",
              "H2O cluster timezone:       Etc/UTC\n",
              "H2O data parsing timezone:  UTC\n",
              "H2O cluster version:        3.28.0.1\n",
              "H2O cluster version age:    3 days\n",
              "H2O cluster name:           H2O_from_python_unknownUser_z2s55l\n",
              "H2O cluster total nodes:    1\n",
              "H2O cluster free memory:    3 Gb\n",
              "H2O cluster total cores:    2\n",
              "H2O cluster allowed cores:  2\n",
              "H2O cluster status:         accepting new members, healthy\n",
              "H2O connection url:         http://127.0.0.1:54321\n",
              "H2O connection proxy:       {'http': None, 'https': None}\n",
              "H2O internal security:      False\n",
              "H2O API Extensions:         Amazon S3, XGBoost, Algos, AutoML, Core V3, TargetEncoder, Core V4\n",
              "Python version:             3.6.9 final\n",
              "--------------------------  ------------------------------------------------------------------"
            ]
          },
          "metadata": {
            "tags": []
          }
        }
      ]
    },
    {
      "cell_type": "code",
      "metadata": {
        "id": "ny1L2mR1qJfi",
        "colab_type": "code",
        "colab": {
          "base_uri": "https://localhost:8080/",
          "height": 52
        },
        "outputId": "abc980d9-ef3c-4afd-cfce-6e45e4f4fc0c"
      },
      "source": [
        "url = \"http://h2o-public-test-data.s3.amazonaws.com/smalldata/airlines/allyears2k_headers.zip\"\n",
        "data = h2o.import_file(url)\n",
        "\n",
        "train,valid,test=data.split_frame([0.8,0.1],seed=7)\n",
        "print(\"%d/%d/%d\" %(train.nrows,valid.nrows,test.nrows))"
      ],
      "execution_count": 2,
      "outputs": [
        {
          "output_type": "stream",
          "text": [
            "Parse progress: |█████████████████████████████████████████████████████████| 100%\n",
            "35263/4265/4450\n"
          ],
          "name": "stdout"
        }
      ]
    },
    {
      "cell_type": "code",
      "metadata": {
        "id": "wHjEqS2uqYEK",
        "colab_type": "code",
        "colab": {}
      },
      "source": [
        "y ='ArrDelay'\n",
        "ignoreFields=['IsArrDelayed','ActualElapsedTime','ArrTime','TailNum']\n",
        "xWithDep=[i for i in train.names  if i not in ignoreFields]"
      ],
      "execution_count": 0,
      "outputs": []
    },
    {
      "cell_type": "code",
      "metadata": {
        "id": "NCYjz68hqmAb",
        "colab_type": "code",
        "colab": {
          "base_uri": "https://localhost:8080/",
          "height": 69
        },
        "outputId": "8cb015ad-f56c-4620-8b3d-91546d44053d"
      },
      "source": [
        "from h2o.estimators.deeplearning import H2ODeepLearningEstimator as dle\n",
        "\n",
        "m_DLR_def= dle(variable_importances=True) \n",
        "%time m_DLR_def.train(xWithDep,y,train,validation_frame=valid)"
      ],
      "execution_count": 4,
      "outputs": [
        {
          "output_type": "stream",
          "text": [
            "deeplearning Model Build progress: |██████████████████████████████████████| 100%\n",
            "CPU times: user 646 ms, sys: 63.3 ms, total: 710 ms\n",
            "Wall time: 1min 42s\n"
          ],
          "name": "stdout"
        }
      ]
    },
    {
      "cell_type": "code",
      "metadata": {
        "id": "QWS4vaIVqvtZ",
        "colab_type": "code",
        "colab": {
          "base_uri": "https://localhost:8080/",
          "height": 173
        },
        "outputId": "3c31b5ec-85c4-487b-d4f1-7aaf387294fb"
      },
      "source": [
        "m_DLR_def.model_performance(valid)"
      ],
      "execution_count": 5,
      "outputs": [
        {
          "output_type": "stream",
          "text": [
            "\n",
            "ModelMetricsRegression: deeplearning\n",
            "** Reported on test data. **\n",
            "\n",
            "MSE: 46.22959015216526\n",
            "RMSE: 6.799234526927664\n",
            "MAE: 3.360801978926331\n",
            "RMSLE: NaN\n",
            "Mean Residual Deviance: 46.22959015216526\n"
          ],
          "name": "stdout"
        },
        {
          "output_type": "execute_result",
          "data": {
            "text/plain": [
              ""
            ]
          },
          "metadata": {
            "tags": []
          },
          "execution_count": 5
        }
      ]
    },
    {
      "cell_type": "code",
      "metadata": {
        "id": "56PSKPaTq0OI",
        "colab_type": "code",
        "colab": {
          "base_uri": "https://localhost:8080/",
          "height": 612
        },
        "outputId": "61802227-f251-464a-cb48-01a481edd5cc"
      },
      "source": [
        "m_DLR_def.varimp_plot(30) # default gives you first 10"
      ],
      "execution_count": 6,
      "outputs": [
        {
          "output_type": "display_data",
          "data": {
            "image/png": "[encoded data removed]",
            "text/plain": [
              "<Figure size 1008x720 with 1 Axes>"
            ]
          },
          "metadata": {
            "tags": []
          }
        }
      ]
    },
    {
      "cell_type": "markdown",
      "metadata": {
        "id": "FdJq83Dmq6rh",
        "colab_type": "text"
      },
      "source": [
        "Let's increase no of epochs"
      ]
    },
    {
      "cell_type": "code",
      "metadata": {
        "id": "sAmKfI1nq3fg",
        "colab_type": "code",
        "colab": {
          "base_uri": "https://localhost:8080/",
          "height": 69
        },
        "outputId": "8c732a7a-91ab-47d1-fceb-1be25d8203d2"
      },
      "source": [
        "m_DLR_200_epochs = dle(variable_importances=True, epochs=200)\n",
        "%time m_DLR_200_epochs.train(xWithDep,y,train,validation_frame=valid)"
      ],
      "execution_count": 8,
      "outputs": [
        {
          "output_type": "stream",
          "text": [
            "deeplearning Model Build progress: |██████████████████████████████████████| 100%\n",
            "CPU times: user 730 ms, sys: 60.2 ms, total: 790 ms\n",
            "Wall time: 3min 32s\n"
          ],
          "name": "stdout"
        }
      ]
    },
    {
      "cell_type": "code",
      "metadata": {
        "id": "llGG5Xc0rZ-r",
        "colab_type": "code",
        "colab": {
          "base_uri": "https://localhost:8080/",
          "height": 173
        },
        "outputId": "c9adbd6c-9700-4b67-af43-0dcc94456ad0"
      },
      "source": [
        "m_DLR_200_epochs.model_performance(valid)"
      ],
      "execution_count": 9,
      "outputs": [
        {
          "output_type": "stream",
          "text": [
            "\n",
            "ModelMetricsRegression: deeplearning\n",
            "** Reported on test data. **\n",
            "\n",
            "MSE: 46.45066075819988\n",
            "RMSE: 6.815472159593925\n",
            "MAE: 3.1654259207277655\n",
            "RMSLE: NaN\n",
            "Mean Residual Deviance: 46.45066075819988\n"
          ],
          "name": "stdout"
        },
        {
          "output_type": "execute_result",
          "data": {
            "text/plain": [
              ""
            ]
          },
          "metadata": {
            "tags": []
          },
          "execution_count": 9
        }
      ]
    },
    {
      "cell_type": "code",
      "metadata": {
        "id": "1iAY_himreoZ",
        "colab_type": "code",
        "colab": {
          "base_uri": "https://localhost:8080/",
          "height": 295
        },
        "outputId": "e427236d-6b28-471a-a5b0-18f27bac5931"
      },
      "source": [
        "m_DLR_200_epochs.plot()"
      ],
      "execution_count": 10,
      "outputs": [
        {
          "output_type": "display_data",
          "data": {
            "image/png": "[encoded data removed]",
            "text/plain": [
              "<Figure size 432x288 with 1 Axes>"
            ]
          },
          "metadata": {
            "tags": []
          }
        }
      ]
    },
    {
      "cell_type": "code",
      "metadata": {
        "id": "ES7PFi59rhAt",
        "colab_type": "code",
        "colab": {
          "base_uri": "https://localhost:8080/",
          "height": 1000
        },
        "outputId": "5fc23162-d46c-4da3-eb50-006e441dfc24"
      },
      "source": [
        "m_DLR_200_epochs.scoring_history() #training rmse is higher than training_mae which means when it gets it wrong, it gets it wrong"
      ],
      "execution_count": 11,
      "outputs": [
        {
          "output_type": "execute_result",
          "data": {
            "text/html": [
              "<div>\n",
              "<style scoped>\n",
              "    .dataframe tbody tr th:only-of-type {\n",
              "        vertical-align: middle;\n",
              "    }\n",
              "\n",
              "    .dataframe tbody tr th {\n",
              "        vertical-align: top;\n",
              "    }\n",
              "\n",
              "    .dataframe thead th {\n",
              "        text-align: right;\n",
              "    }\n",
              "</style>\n",
              "<table border=\"1\" class=\"dataframe\">\n",
              "  <thead>\n",
              "    <tr style=\"text-align: right;\">\n",
              "      <th></th>\n",
              "      <th></th>\n",
              "      <th>timestamp</th>\n",
              "      <th>duration</th>\n",
              "      <th>training_speed</th>\n",
              "      <th>epochs</th>\n",
              "      <th>iterations</th>\n",
              "      <th>samples</th>\n",
              "      <th>training_rmse</th>\n",
              "      <th>training_deviance</th>\n",
              "      <th>training_mae</th>\n",
              "      <th>training_r2</th>\n",
              "      <th>validation_rmse</th>\n",
              "      <th>validation_deviance</th>\n",
              "      <th>validation_mae</th>\n",
              "      <th>validation_r2</th>\n",
              "    </tr>\n",
              "  </thead>\n",
              "  <tbody>\n",
              "    <tr>\n",
              "      <th>0</th>\n",
              "      <td></td>\n",
              "      <td>2019-12-20 05:00:34</td>\n",
              "      <td>0.000 sec</td>\n",
              "      <td>None</td>\n",
              "      <td>0.000000</td>\n",
              "      <td>0</td>\n",
              "      <td>0.0</td>\n",
              "      <td>NaN</td>\n",
              "      <td>NaN</td>\n",
              "      <td>NaN</td>\n",
              "      <td>NaN</td>\n",
              "      <td>NaN</td>\n",
              "      <td>NaN</td>\n",
              "      <td>NaN</td>\n",
              "      <td>NaN</td>\n",
              "    </tr>\n",
              "    <tr>\n",
              "      <th>1</th>\n",
              "      <td></td>\n",
              "      <td>2019-12-20 05:00:39</td>\n",
              "      <td>7.088 sec</td>\n",
              "      <td>1197 obs/sec</td>\n",
              "      <td>0.179338</td>\n",
              "      <td>1</td>\n",
              "      <td>6324.0</td>\n",
              "      <td>11.815161</td>\n",
              "      <td>139.598025</td>\n",
              "      <td>8.556201</td>\n",
              "      <td>0.854039</td>\n",
              "      <td>11.810302</td>\n",
              "      <td>139.483233</td>\n",
              "      <td>8.498456</td>\n",
              "      <td>0.840880</td>\n",
              "    </tr>\n",
              "    <tr>\n",
              "      <th>2</th>\n",
              "      <td></td>\n",
              "      <td>2019-12-20 05:00:52</td>\n",
              "      <td>20.369 sec</td>\n",
              "      <td>1828 obs/sec</td>\n",
              "      <td>0.896208</td>\n",
              "      <td>5</td>\n",
              "      <td>31603.0</td>\n",
              "      <td>8.746338</td>\n",
              "      <td>76.498431</td>\n",
              "      <td>6.030981</td>\n",
              "      <td>0.920015</td>\n",
              "      <td>8.759036</td>\n",
              "      <td>76.720712</td>\n",
              "      <td>6.042407</td>\n",
              "      <td>0.912478</td>\n",
              "    </tr>\n",
              "    <tr>\n",
              "      <th>3</th>\n",
              "      <td></td>\n",
              "      <td>2019-12-20 05:01:06</td>\n",
              "      <td>33.417 sec</td>\n",
              "      <td>2159 obs/sec</td>\n",
              "      <td>1.784420</td>\n",
              "      <td>10</td>\n",
              "      <td>62924.0</td>\n",
              "      <td>7.745586</td>\n",
              "      <td>59.994110</td>\n",
              "      <td>4.336962</td>\n",
              "      <td>0.937271</td>\n",
              "      <td>7.841768</td>\n",
              "      <td>61.493332</td>\n",
              "      <td>4.340562</td>\n",
              "      <td>0.929849</td>\n",
              "    </tr>\n",
              "    <tr>\n",
              "      <th>4</th>\n",
              "      <td></td>\n",
              "      <td>2019-12-20 05:01:18</td>\n",
              "      <td>46.463 sec</td>\n",
              "      <td>2494 obs/sec</td>\n",
              "      <td>2.858804</td>\n",
              "      <td>16</td>\n",
              "      <td>100810.0</td>\n",
              "      <td>6.916724</td>\n",
              "      <td>47.841072</td>\n",
              "      <td>4.004959</td>\n",
              "      <td>0.949978</td>\n",
              "      <td>7.221422</td>\n",
              "      <td>52.148938</td>\n",
              "      <td>4.116789</td>\n",
              "      <td>0.940509</td>\n",
              "    </tr>\n",
              "    <tr>\n",
              "      <th>5</th>\n",
              "      <td></td>\n",
              "      <td>2019-12-20 05:01:36</td>\n",
              "      <td>1 min  3.827 sec</td>\n",
              "      <td>2899 obs/sec</td>\n",
              "      <td>4.642969</td>\n",
              "      <td>26</td>\n",
              "      <td>163725.0</td>\n",
              "      <td>6.636002</td>\n",
              "      <td>44.036516</td>\n",
              "      <td>3.457863</td>\n",
              "      <td>0.953956</td>\n",
              "      <td>6.960743</td>\n",
              "      <td>48.451942</td>\n",
              "      <td>3.540988</td>\n",
              "      <td>0.944727</td>\n",
              "    </tr>\n",
              "    <tr>\n",
              "      <th>6</th>\n",
              "      <td></td>\n",
              "      <td>2019-12-20 05:01:49</td>\n",
              "      <td>1 min 17.228 sec</td>\n",
              "      <td>3118 obs/sec</td>\n",
              "      <td>6.077333</td>\n",
              "      <td>34</td>\n",
              "      <td>214305.0</td>\n",
              "      <td>6.551785</td>\n",
              "      <td>42.925885</td>\n",
              "      <td>3.369518</td>\n",
              "      <td>0.955117</td>\n",
              "      <td>6.962553</td>\n",
              "      <td>48.477147</td>\n",
              "      <td>3.492633</td>\n",
              "      <td>0.944698</td>\n",
              "    </tr>\n",
              "    <tr>\n",
              "      <th>7</th>\n",
              "      <td></td>\n",
              "      <td>2019-12-20 05:02:01</td>\n",
              "      <td>1 min 28.878 sec</td>\n",
              "      <td>3341 obs/sec</td>\n",
              "      <td>7.499334</td>\n",
              "      <td>42</td>\n",
              "      <td>264449.0</td>\n",
              "      <td>6.396099</td>\n",
              "      <td>40.910076</td>\n",
              "      <td>3.276470</td>\n",
              "      <td>0.957225</td>\n",
              "      <td>6.877514</td>\n",
              "      <td>47.300205</td>\n",
              "      <td>3.413163</td>\n",
              "      <td>0.946041</td>\n",
              "    </tr>\n",
              "    <tr>\n",
              "      <th>8</th>\n",
              "      <td></td>\n",
              "      <td>2019-12-20 05:02:14</td>\n",
              "      <td>1 min 41.456 sec</td>\n",
              "      <td>3544 obs/sec</td>\n",
              "      <td>9.103253</td>\n",
              "      <td>51</td>\n",
              "      <td>321008.0</td>\n",
              "      <td>6.321567</td>\n",
              "      <td>39.962204</td>\n",
              "      <td>3.026691</td>\n",
              "      <td>0.958216</td>\n",
              "      <td>6.854834</td>\n",
              "      <td>46.988751</td>\n",
              "      <td>3.149662</td>\n",
              "      <td>0.946396</td>\n",
              "    </tr>\n",
              "    <tr>\n",
              "      <th>9</th>\n",
              "      <td></td>\n",
              "      <td>2019-12-20 05:02:26</td>\n",
              "      <td>1 min 53.493 sec</td>\n",
              "      <td>3720 obs/sec</td>\n",
              "      <td>10.706406</td>\n",
              "      <td>60</td>\n",
              "      <td>377540.0</td>\n",
              "      <td>6.212089</td>\n",
              "      <td>38.590045</td>\n",
              "      <td>3.217086</td>\n",
              "      <td>0.959651</td>\n",
              "      <td>6.894813</td>\n",
              "      <td>47.538440</td>\n",
              "      <td>3.444074</td>\n",
              "      <td>0.945769</td>\n",
              "    </tr>\n",
              "    <tr>\n",
              "      <th>10</th>\n",
              "      <td></td>\n",
              "      <td>2019-12-20 05:02:38</td>\n",
              "      <td>2 min  5.343 sec</td>\n",
              "      <td>3872 obs/sec</td>\n",
              "      <td>12.313416</td>\n",
              "      <td>69</td>\n",
              "      <td>434208.0</td>\n",
              "      <td>6.237414</td>\n",
              "      <td>38.905337</td>\n",
              "      <td>3.264515</td>\n",
              "      <td>0.959321</td>\n",
              "      <td>6.866510</td>\n",
              "      <td>47.148964</td>\n",
              "      <td>3.417652</td>\n",
              "      <td>0.946213</td>\n",
              "    </tr>\n",
              "    <tr>\n",
              "      <th>11</th>\n",
              "      <td></td>\n",
              "      <td>2019-12-20 05:02:50</td>\n",
              "      <td>2 min 18.142 sec</td>\n",
              "      <td>4017 obs/sec</td>\n",
              "      <td>14.102629</td>\n",
              "      <td>79</td>\n",
              "      <td>497301.0</td>\n",
              "      <td>6.098762</td>\n",
              "      <td>37.194899</td>\n",
              "      <td>3.180031</td>\n",
              "      <td>0.961110</td>\n",
              "      <td>6.832145</td>\n",
              "      <td>46.678202</td>\n",
              "      <td>3.400331</td>\n",
              "      <td>0.946750</td>\n",
              "    </tr>\n",
              "    <tr>\n",
              "      <th>12</th>\n",
              "      <td></td>\n",
              "      <td>2019-12-20 05:03:02</td>\n",
              "      <td>2 min 29.829 sec</td>\n",
              "      <td>4127 obs/sec</td>\n",
              "      <td>15.717976</td>\n",
              "      <td>88</td>\n",
              "      <td>554263.0</td>\n",
              "      <td>6.041551</td>\n",
              "      <td>36.500333</td>\n",
              "      <td>2.934935</td>\n",
              "      <td>0.961836</td>\n",
              "      <td>6.815472</td>\n",
              "      <td>46.450661</td>\n",
              "      <td>3.165426</td>\n",
              "      <td>0.947010</td>\n",
              "    </tr>\n",
              "    <tr>\n",
              "      <th>13</th>\n",
              "      <td></td>\n",
              "      <td>2019-12-20 05:03:15</td>\n",
              "      <td>2 min 42.639 sec</td>\n",
              "      <td>4230 obs/sec</td>\n",
              "      <td>17.509458</td>\n",
              "      <td>98</td>\n",
              "      <td>617436.0</td>\n",
              "      <td>6.041383</td>\n",
              "      <td>36.498310</td>\n",
              "      <td>3.150802</td>\n",
              "      <td>0.961838</td>\n",
              "      <td>6.953522</td>\n",
              "      <td>48.351466</td>\n",
              "      <td>3.370276</td>\n",
              "      <td>0.944841</td>\n",
              "    </tr>\n",
              "    <tr>\n",
              "      <th>14</th>\n",
              "      <td></td>\n",
              "      <td>2019-12-20 05:03:27</td>\n",
              "      <td>2 min 54.895 sec</td>\n",
              "      <td>4333 obs/sec</td>\n",
              "      <td>19.297791</td>\n",
              "      <td>108</td>\n",
              "      <td>680498.0</td>\n",
              "      <td>5.950114</td>\n",
              "      <td>35.403861</td>\n",
              "      <td>3.133450</td>\n",
              "      <td>0.962982</td>\n",
              "      <td>6.842388</td>\n",
              "      <td>46.818272</td>\n",
              "      <td>3.400052</td>\n",
              "      <td>0.946590</td>\n",
              "    </tr>\n",
              "    <tr>\n",
              "      <th>15</th>\n",
              "      <td></td>\n",
              "      <td>2019-12-20 05:03:39</td>\n",
              "      <td>3 min  7.043 sec</td>\n",
              "      <td>4425 obs/sec</td>\n",
              "      <td>21.087968</td>\n",
              "      <td>118</td>\n",
              "      <td>743625.0</td>\n",
              "      <td>7.260047</td>\n",
              "      <td>52.708282</td>\n",
              "      <td>5.750769</td>\n",
              "      <td>0.944889</td>\n",
              "      <td>8.049168</td>\n",
              "      <td>64.789108</td>\n",
              "      <td>6.049741</td>\n",
              "      <td>0.926090</td>\n",
              "    </tr>\n",
              "    <tr>\n",
              "      <th>16</th>\n",
              "      <td></td>\n",
              "      <td>2019-12-20 05:03:51</td>\n",
              "      <td>3 min 19.048 sec</td>\n",
              "      <td>4509 obs/sec</td>\n",
              "      <td>22.874713</td>\n",
              "      <td>128</td>\n",
              "      <td>806631.0</td>\n",
              "      <td>5.877579</td>\n",
              "      <td>34.545938</td>\n",
              "      <td>3.234172</td>\n",
              "      <td>0.963879</td>\n",
              "      <td>6.879684</td>\n",
              "      <td>47.330057</td>\n",
              "      <td>3.575259</td>\n",
              "      <td>0.946007</td>\n",
              "    </tr>\n",
              "    <tr>\n",
              "      <th>17</th>\n",
              "      <td></td>\n",
              "      <td>2019-12-20 05:04:03</td>\n",
              "      <td>3 min 31.228 sec</td>\n",
              "      <td>4582 obs/sec</td>\n",
              "      <td>24.649831</td>\n",
              "      <td>138</td>\n",
              "      <td>869227.0</td>\n",
              "      <td>6.133783</td>\n",
              "      <td>37.623295</td>\n",
              "      <td>3.991082</td>\n",
              "      <td>0.960662</td>\n",
              "      <td>7.099542</td>\n",
              "      <td>50.403494</td>\n",
              "      <td>4.231582</td>\n",
              "      <td>0.942500</td>\n",
              "    </tr>\n",
              "    <tr>\n",
              "      <th>18</th>\n",
              "      <td></td>\n",
              "      <td>2019-12-20 05:04:05</td>\n",
              "      <td>3 min 32.461 sec</td>\n",
              "      <td>4582 obs/sec</td>\n",
              "      <td>24.649831</td>\n",
              "      <td>138</td>\n",
              "      <td>869227.0</td>\n",
              "      <td>6.041551</td>\n",
              "      <td>36.500333</td>\n",
              "      <td>2.934935</td>\n",
              "      <td>0.961836</td>\n",
              "      <td>6.815472</td>\n",
              "      <td>46.450661</td>\n",
              "      <td>3.165426</td>\n",
              "      <td>0.947010</td>\n",
              "    </tr>\n",
              "  </tbody>\n",
              "</table>\n",
              "</div>"
            ],
            "text/plain": [
              "                timestamp  ... validation_mae validation_r2\n",
              "0     2019-12-20 05:00:34  ...            NaN           NaN\n",
              "1     2019-12-20 05:00:39  ...       8.498456      0.840880\n",
              "2     2019-12-20 05:00:52  ...       6.042407      0.912478\n",
              "3     2019-12-20 05:01:06  ...       4.340562      0.929849\n",
              "4     2019-12-20 05:01:18  ...       4.116789      0.940509\n",
              "5     2019-12-20 05:01:36  ...       3.540988      0.944727\n",
              "6     2019-12-20 05:01:49  ...       3.492633      0.944698\n",
              "7     2019-12-20 05:02:01  ...       3.413163      0.946041\n",
              "8     2019-12-20 05:02:14  ...       3.149662      0.946396\n",
              "9     2019-12-20 05:02:26  ...       3.444074      0.945769\n",
              "10    2019-12-20 05:02:38  ...       3.417652      0.946213\n",
              "11    2019-12-20 05:02:50  ...       3.400331      0.946750\n",
              "12    2019-12-20 05:03:02  ...       3.165426      0.947010\n",
              "13    2019-12-20 05:03:15  ...       3.370276      0.944841\n",
              "14    2019-12-20 05:03:27  ...       3.400052      0.946590\n",
              "15    2019-12-20 05:03:39  ...       6.049741      0.926090\n",
              "16    2019-12-20 05:03:51  ...       3.575259      0.946007\n",
              "17    2019-12-20 05:04:03  ...       4.231582      0.942500\n",
              "18    2019-12-20 05:04:05  ...       3.165426      0.947010\n",
              "\n",
              "[19 rows x 15 columns]"
            ]
          },
          "metadata": {
            "tags": []
          },
          "execution_count": 11
        }
      ]
    },
    {
      "cell_type": "markdown",
      "metadata": {
        "id": "cSvOuzCxroc4",
        "colab_type": "text"
      },
      "source": [
        "\n",
        "The distribution of ArrDelay is long-tailed"
      ]
    },
    {
      "cell_type": "code",
      "metadata": {
        "id": "Yyr4C175rkY_",
        "colab_type": "code",
        "colab": {
          "base_uri": "https://localhost:8080/",
          "height": 295
        },
        "outputId": "1418404e-c7f7-4474-c0f5-d3b7a3238a83"
      },
      "source": [
        "train[y].hist()"
      ],
      "execution_count": 13,
      "outputs": [
        {
          "output_type": "display_data",
          "data": {
            "image/png": "[encoded data removed]",
            "text/plain": [
              "<Figure size 432x288 with 1 Axes>"
            ]
          },
          "metadata": {
            "tags": []
          }
        }
      ]
    },
    {
      "cell_type": "markdown",
      "metadata": {
        "id": "yECLpHgJr7JV",
        "colab_type": "text"
      },
      "source": [
        "it looks like a exponential decay\n",
        "\n",
        "Let's try a laplace distribution"
      ]
    },
    {
      "cell_type": "code",
      "metadata": {
        "id": "0Um0XL2NrrCg",
        "colab_type": "code",
        "colab": {
          "base_uri": "https://localhost:8080/",
          "height": 69
        },
        "outputId": "5d036192-2e1a-481f-fdda-d425f05c4a58"
      },
      "source": [
        "m_DLR_laplace = dle(\n",
        "variable_importances=True,\n",
        "epochs=200,\n",
        "distribution='laplace'   \n",
        ")\n",
        "%time m_DLR_laplace.train(xWithDep,y,train,validation_frame=valid)"
      ],
      "execution_count": 14,
      "outputs": [
        {
          "output_type": "stream",
          "text": [
            "deeplearning Model Build progress: |██████████████████████████████████████| 100%\n",
            "CPU times: user 929 ms, sys: 55.4 ms, total: 984 ms\n",
            "Wall time: 4min 26s\n"
          ],
          "name": "stdout"
        }
      ]
    },
    {
      "cell_type": "code",
      "metadata": {
        "id": "OTkQJ_WwsC6Y",
        "colab_type": "code",
        "colab": {
          "base_uri": "https://localhost:8080/",
          "height": 173
        },
        "outputId": "ab1caa80-1aff-4785-bd78-2a050f49fb5b"
      },
      "source": [
        "m_DLR_laplace.model_performance(valid)"
      ],
      "execution_count": 15,
      "outputs": [
        {
          "output_type": "stream",
          "text": [
            "\n",
            "ModelMetricsRegression: deeplearning\n",
            "** Reported on test data. **\n",
            "\n",
            "MSE: 45.672469307487646\n",
            "RMSE: 6.758140965345991\n",
            "MAE: 2.963776008094258\n",
            "RMSLE: NaN\n",
            "Mean Residual Deviance: 2.963776008094258\n"
          ],
          "name": "stdout"
        },
        {
          "output_type": "execute_result",
          "data": {
            "text/plain": [
              ""
            ]
          },
          "metadata": {
            "tags": []
          },
          "execution_count": 15
        }
      ]
    },
    {
      "cell_type": "code",
      "metadata": {
        "id": "ohQHvJjXtn5q",
        "colab_type": "code",
        "colab": {
          "base_uri": "https://localhost:8080/",
          "height": 295
        },
        "outputId": "2140c943-0d02-451b-f38a-2ad1906bf8f3"
      },
      "source": [
        "m_DLR_laplace.plot()"
      ],
      "execution_count": 17,
      "outputs": [
        {
          "output_type": "display_data",
          "data": {
            "image/png": "[encoded data removed]",
            "text/plain": [
              "<Figure size 432x288 with 1 Axes>"
            ]
          },
          "metadata": {
            "tags": []
          }
        }
      ]
    },
    {
      "cell_type": "markdown",
      "metadata": {
        "id": "qX1xAt93tvfy",
        "colab_type": "text"
      },
      "source": [
        "This is fairly better"
      ]
    },
    {
      "cell_type": "code",
      "metadata": {
        "id": "KLWvzJk2tt1W",
        "colab_type": "code",
        "colab": {}
      },
      "source": [
        ""
      ],
      "execution_count": 0,
      "outputs": []
    }
  ]
}